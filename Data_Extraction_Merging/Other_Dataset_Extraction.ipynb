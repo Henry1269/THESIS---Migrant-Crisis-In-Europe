{
 "cells": [
  {
   "cell_type": "code",
   "execution_count": 2,
   "id": "a97cd2ce",
   "metadata": {},
   "outputs": [],
   "source": [
    "import trafilatura\n",
    "import csv\n",
    "import requests\n",
    "from datetime import datetime\n",
    "from urllib.parse import urlparse\n",
    "from openpyxl import Workbook"
   ]
  },
  {
   "cell_type": "code",
   "execution_count": 13,
   "id": "3164da98",
   "metadata": {},
   "outputs": [],
   "source": [
    "# Define the URL of the article\n",
    "url = \"https://www.telegraph.co.uk/columnists/2023/07/13/asylum-seeker-pretended-to-be-child-robert-jenrick/\"\n",
    "# Download the content of the article using requests\n",
    "downloaded = requests.get(url).text\n",
    "\n",
    "# Check if the request was successful\n",
    "#if response.status_code == 200:\n",
    "#downloaded = response.text\n",
    "\n",
    "# Extract the content of the article using trafilatura\n",
    "content = trafilatura.extract(downloaded)\n",
    "\n",
    "# Extract the publication date from the URL (current date in this case)\n",
    "publication_date = datetime.now().strftime(\"%Y-%m-%d\")\n",
    "\n",
    "# Parse the URL to extract the domain name\n",
    "website_name = urlparse(url).netloc\n",
    "\n",
    "# Create a new Excel workbook\n",
    "workbook = Workbook()\n",
    "sheet = workbook.active\n",
    "\n",
    "# Write headers\n",
    "sheet[\"A1\"] = \"Publication Date\"\n",
    "sheet[\"B1\"] = \"Website Name\"\n",
    "sheet[\"C1\"] = \"Content\"\n",
    "\n",
    "# Write data\n",
    "sheet.append([publication_date, website_name, content])\n",
    "\n",
    "# Save the workbook to an Excel file\n",
    "workbook.save(r\"C:\\Users\\pc\\Desktop\\Extracts\\2490_data.xlsx\")\n",
    "\n",
    "#else:\n",
    "    #print(f\"Failed to retrieve the URL. Status code: {response.status_code}\")"
   ]
  },
  {
   "cell_type": "code",
   "execution_count": null,
   "id": "2d19d9c9",
   "metadata": {},
   "outputs": [],
   "source": []
  }
 ],
 "metadata": {
  "kernelspec": {
   "display_name": "Python 3 (ipykernel)",
   "language": "python",
   "name": "python3"
  },
  "language_info": {
   "codemirror_mode": {
    "name": "ipython",
    "version": 3
   },
   "file_extension": ".py",
   "mimetype": "text/x-python",
   "name": "python",
   "nbconvert_exporter": "python",
   "pygments_lexer": "ipython3",
   "version": "3.10.6"
  }
 },
 "nbformat": 4,
 "nbformat_minor": 5
}
