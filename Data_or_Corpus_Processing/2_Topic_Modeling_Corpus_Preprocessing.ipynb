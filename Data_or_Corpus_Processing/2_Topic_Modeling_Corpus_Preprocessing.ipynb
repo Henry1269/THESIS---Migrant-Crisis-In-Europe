{
 "cells": [
  {
   "cell_type": "code",
   "execution_count": 1,
   "id": "ff2fa070",
   "metadata": {},
   "outputs": [
    {
     "name": "stderr",
     "output_type": "stream",
     "text": [
      "[nltk_data] Downloading package punkt to\n",
      "[nltk_data]     /Users/henryasiamah/nltk_data...\n",
      "[nltk_data]   Package punkt is already up-to-date!\n",
      "[nltk_data] Downloading package stopwords to\n",
      "[nltk_data]     /Users/henryasiamah/nltk_data...\n",
      "[nltk_data]   Package stopwords is already up-to-date!\n",
      "[nltk_data] Downloading package wordnet to\n",
      "[nltk_data]     /Users/henryasiamah/nltk_data...\n",
      "[nltk_data]   Package wordnet is already up-to-date!\n",
      "[nltk_data] Downloading package omw-1.4 to\n",
      "[nltk_data]     /Users/henryasiamah/nltk_data...\n",
      "[nltk_data]   Package omw-1.4 is already up-to-date!\n",
      "[nltk_data] Downloading package wordnet to\n",
      "[nltk_data]     /Users/henryasiamah/nltk_data...\n",
      "[nltk_data]   Package wordnet is already up-to-date!\n"
     ]
    }
   ],
   "source": [
    "# import packages\n",
    "\n",
    "import pandas as pd\n",
    "\n",
    "import nltk\n",
    "nltk.download('punkt')\n",
    "nltk.download('stopwords')\n",
    "nltk.download('wordnet')\n",
    "from nltk.tokenize import word_tokenize\n",
    "from nltk.corpus import stopwords\n",
    "from nltk.stem import WordNetLemmatizer\n",
    "nltk.download('omw-1.4')\n",
    "nltk.download('wordnet')   # This downloads WordNet resource.\n",
    "import re"
   ]
  },
  {
   "cell_type": "code",
   "execution_count": 2,
   "id": "8917581e",
   "metadata": {},
   "outputs": [
    {
     "data": {
      "text/html": [
       "<div>\n",
       "<style scoped>\n",
       "    .dataframe tbody tr th:only-of-type {\n",
       "        vertical-align: middle;\n",
       "    }\n",
       "\n",
       "    .dataframe tbody tr th {\n",
       "        vertical-align: top;\n",
       "    }\n",
       "\n",
       "    .dataframe thead th {\n",
       "        text-align: right;\n",
       "    }\n",
       "</style>\n",
       "<table border=\"1\" class=\"dataframe\">\n",
       "  <thead>\n",
       "    <tr style=\"text-align: right;\">\n",
       "      <th></th>\n",
       "      <th>Date</th>\n",
       "      <th>Headline</th>\n",
       "      <th>Content</th>\n",
       "      <th>Source</th>\n",
       "      <th>Country/Organization</th>\n",
       "      <th>cleaned_corpus</th>\n",
       "    </tr>\n",
       "  </thead>\n",
       "  <tbody>\n",
       "    <tr>\n",
       "      <th>0</th>\n",
       "      <td>2024-06-07</td>\n",
       "      <td>www.bbc.com</td>\n",
       "      <td>How many people cross the Channel in small boa...</td>\n",
       "      <td>BBC</td>\n",
       "      <td>UK</td>\n",
       "      <td>How many people cross the Channel in small boa...</td>\n",
       "    </tr>\n",
       "    <tr>\n",
       "      <th>1</th>\n",
       "      <td>2024-06-07</td>\n",
       "      <td>www.bbc.com</td>\n",
       "      <td>Far right eyes Europe vote surge and ditches G...</td>\n",
       "      <td>BBC</td>\n",
       "      <td>UK</td>\n",
       "      <td>Far right eyes Europe vote surge and ditches G...</td>\n",
       "    </tr>\n",
       "    <tr>\n",
       "      <th>2</th>\n",
       "      <td>2024-06-07</td>\n",
       "      <td>www.bbc.com</td>\n",
       "      <td>Greek court throws out shipwreck trial against...</td>\n",
       "      <td>BBC</td>\n",
       "      <td>UK</td>\n",
       "      <td>Greek court throws out shipwreck trial against...</td>\n",
       "    </tr>\n",
       "    <tr>\n",
       "      <th>3</th>\n",
       "      <td>2024-06-07</td>\n",
       "      <td>www.bbc.com</td>\n",
       "      <td>Migrants cross Channel for 10th consecutive da...</td>\n",
       "      <td>BBC</td>\n",
       "      <td>UK</td>\n",
       "      <td>Migrants cross Channel for 10th consecutive da...</td>\n",
       "    </tr>\n",
       "    <tr>\n",
       "      <th>4</th>\n",
       "      <td>2024-06-07</td>\n",
       "      <td>www.bbc.com</td>\n",
       "      <td>More than 700 people arrive by small boats in ...</td>\n",
       "      <td>BBC</td>\n",
       "      <td>UK</td>\n",
       "      <td>More than 700 people arrive by small boats in ...</td>\n",
       "    </tr>\n",
       "  </tbody>\n",
       "</table>\n",
       "</div>"
      ],
      "text/plain": [
       "         Date     Headline                                            Content  \\\n",
       "0  2024-06-07  www.bbc.com  How many people cross the Channel in small boa...   \n",
       "1  2024-06-07  www.bbc.com  Far right eyes Europe vote surge and ditches G...   \n",
       "2  2024-06-07  www.bbc.com  Greek court throws out shipwreck trial against...   \n",
       "3  2024-06-07  www.bbc.com  Migrants cross Channel for 10th consecutive da...   \n",
       "4  2024-06-07  www.bbc.com  More than 700 people arrive by small boats in ...   \n",
       "\n",
       "  Source Country/Organization  \\\n",
       "0    BBC                   UK   \n",
       "1    BBC                   UK   \n",
       "2    BBC                   UK   \n",
       "3    BBC                   UK   \n",
       "4    BBC                   UK   \n",
       "\n",
       "                                      cleaned_corpus  \n",
       "0  How many people cross the Channel in small boa...  \n",
       "1  Far right eyes Europe vote surge and ditches G...  \n",
       "2  Greek court throws out shipwreck trial against...  \n",
       "3  Migrants cross Channel for 10th consecutive da...  \n",
       "4  More than 700 people arrive by small boats in ...  "
      ]
     },
     "execution_count": 2,
     "metadata": {},
     "output_type": "execute_result"
    }
   ],
   "source": [
    "# load data\n",
    "\n",
    "df = pd.read_csv(\"/Users/henryasiamah/Desktop/work/cleaned.csv\")\n",
    "df.head()"
   ]
  },
  {
   "cell_type": "code",
   "execution_count": 3,
   "id": "2cb99ae4",
   "metadata": {},
   "outputs": [
    {
     "data": {
      "text/html": [
       "<div>\n",
       "<style scoped>\n",
       "    .dataframe tbody tr th:only-of-type {\n",
       "        vertical-align: middle;\n",
       "    }\n",
       "\n",
       "    .dataframe tbody tr th {\n",
       "        vertical-align: top;\n",
       "    }\n",
       "\n",
       "    .dataframe thead th {\n",
       "        text-align: right;\n",
       "    }\n",
       "</style>\n",
       "<table border=\"1\" class=\"dataframe\">\n",
       "  <thead>\n",
       "    <tr style=\"text-align: right;\">\n",
       "      <th></th>\n",
       "      <th>Date</th>\n",
       "      <th>Headline</th>\n",
       "      <th>Content</th>\n",
       "      <th>Source</th>\n",
       "      <th>Country/Organization</th>\n",
       "      <th>cleaned_corpus</th>\n",
       "    </tr>\n",
       "  </thead>\n",
       "  <tbody>\n",
       "    <tr>\n",
       "      <th>5284</th>\n",
       "      <td>2021-04-22</td>\n",
       "      <td>Orange-bellied parrots leave Tasmania in bigge...</td>\n",
       "      <td>&lt;p&gt;Nearly 200 endangered orange-bellied parrot...</td>\n",
       "      <td>The Guardian</td>\n",
       "      <td>UK</td>\n",
       "      <td>Nearly 200 endangered orange-bellied parrots h...</td>\n",
       "    </tr>\n",
       "    <tr>\n",
       "      <th>5285</th>\n",
       "      <td>2021-04-21</td>\n",
       "      <td>Melting ice in Arctic linked to bowhead whales...</td>\n",
       "      <td>&lt;p&gt;As the ice melts at pace in the Arctic, the...</td>\n",
       "      <td>The Guardian</td>\n",
       "      <td>UK</td>\n",
       "      <td>As the ice melts at pace in the Arctic, the mi...</td>\n",
       "    </tr>\n",
       "    <tr>\n",
       "      <th>5286</th>\n",
       "      <td>2021-03-01</td>\n",
       "      <td>A birder's calendar: where and when to watch A...</td>\n",
       "      <td>&lt;p&gt;During Covid lockdown, birds in our backyar...</td>\n",
       "      <td>The Guardian</td>\n",
       "      <td>UK</td>\n",
       "      <td>During Covid lockdown, birds in our backyards ...</td>\n",
       "    </tr>\n",
       "    <tr>\n",
       "      <th>5287</th>\n",
       "      <td>2021-01-15</td>\n",
       "      <td>Air pollution will lead to mass migration, say...</td>\n",
       "      <td>&lt;p&gt;Air pollution does not respect national bou...</td>\n",
       "      <td>The Guardian</td>\n",
       "      <td>UK</td>\n",
       "      <td>Air pollution does not respect national bounda...</td>\n",
       "    </tr>\n",
       "    <tr>\n",
       "      <th>5288</th>\n",
       "      <td>2021-01-17</td>\n",
       "      <td>In brief: Passing: An Alternative History of I...</td>\n",
       "      <td>&lt;h2&gt;&lt;strong&gt;&lt;a href=\"https://guardianbookshop....</td>\n",
       "      <td>The Guardian</td>\n",
       "      <td>UK</td>\n",
       "      <td>Passing: An Alternative History of IdentityLip...</td>\n",
       "    </tr>\n",
       "  </tbody>\n",
       "</table>\n",
       "</div>"
      ],
      "text/plain": [
       "            Date                                           Headline  \\\n",
       "5284  2021-04-22  Orange-bellied parrots leave Tasmania in bigge...   \n",
       "5285  2021-04-21  Melting ice in Arctic linked to bowhead whales...   \n",
       "5286  2021-03-01  A birder's calendar: where and when to watch A...   \n",
       "5287  2021-01-15  Air pollution will lead to mass migration, say...   \n",
       "5288  2021-01-17  In brief: Passing: An Alternative History of I...   \n",
       "\n",
       "                                                Content        Source  \\\n",
       "5284  <p>Nearly 200 endangered orange-bellied parrot...  The Guardian   \n",
       "5285  <p>As the ice melts at pace in the Arctic, the...  The Guardian   \n",
       "5286  <p>During Covid lockdown, birds in our backyar...  The Guardian   \n",
       "5287  <p>Air pollution does not respect national bou...  The Guardian   \n",
       "5288  <h2><strong><a href=\"https://guardianbookshop....  The Guardian   \n",
       "\n",
       "     Country/Organization                                     cleaned_corpus  \n",
       "5284                   UK  Nearly 200 endangered orange-bellied parrots h...  \n",
       "5285                   UK  As the ice melts at pace in the Arctic, the mi...  \n",
       "5286                   UK  During Covid lockdown, birds in our backyards ...  \n",
       "5287                   UK  Air pollution does not respect national bounda...  \n",
       "5288                   UK  Passing: An Alternative History of IdentityLip...  "
      ]
     },
     "execution_count": 3,
     "metadata": {},
     "output_type": "execute_result"
    }
   ],
   "source": [
    "df.tail()"
   ]
  },
  {
   "cell_type": "code",
   "execution_count": 4,
   "id": "07c377fe",
   "metadata": {},
   "outputs": [
    {
     "name": "stdout",
     "output_type": "stream",
     "text": [
      "cleaned_corpus\n",
      "<class 'str'>      5288\n",
      "<class 'float'>       1\n",
      "Name: count, dtype: int64\n"
     ]
    }
   ],
   "source": [
    "print(df[\"cleaned_corpus\"].apply(type).value_counts())"
   ]
  },
  {
   "cell_type": "code",
   "execution_count": 5,
   "id": "f8853deb",
   "metadata": {},
   "outputs": [],
   "source": [
    "\"\"\"\n",
    "The functions below are used to preprocess the data for topic modleing. \n",
    "\"\"\"\n",
    "\n",
    "# Tokenization\n",
    "def tokenization(df_col):\n",
    "    print(\"Tokenizing articles...\\n\")\n",
    "    return df_col.apply(lambda x: word_tokenize(x) if isinstance(x, str) else [])\n",
    "\n",
    "# Lowercase\n",
    "def lowercase(df_col):\n",
    "    print(\"Making all words lowercase...\\n\")\n",
    "    return df_col.apply(lambda x: [token.lower() for token in x])\n",
    "\n",
    "# Remove Non-Alphabetic Tokens\n",
    "def only_alphabetic(df_col):\n",
    "    print(\"Removing all non-alphabetic words...\\n\")\n",
    "    return df_col.apply(lambda x: [token for token in x if re.match(r\"^[a-zA-ZÀ-ÿ]+$\", token)])\n",
    "\n",
    "# Stopword Removal\n",
    "stop_words = set(stopwords.words('english'))\n",
    "custom_stop_words = [\"refugee\", \"refugees\", \"migrant\", \"migrants\", \"immigrant\", \"immigrants\",\n",
    "                     \"like\", \"say\", \"told\", \"make\", \"would\", \"want\", \"take\", \"must\", \"well\",\n",
    "                     \"could\", \"even\", \"since\", \"also\", \"-\", \"know\", \"immigration\", \"migration\",\n",
    "                     \"asylum seeker\", \"asylum seekers\", \"said\"]\n",
    "stop_words.update(custom_stop_words)\n",
    "\n",
    "def stopword_removal(df_col):\n",
    "    print(\"Removing Stopwords...\\n\")\n",
    "    return df_col.apply(lambda x: [token for token in x if token not in stop_words and len(token) > 3])\n",
    "\n",
    "# Lemmatization\n",
    "def lemmatization(df_col):\n",
    "    print(\"Lemmatizing words...\\n\")\n",
    "    lemmatizer = WordNetLemmatizer()\n",
    "    return df_col.apply(lambda x: [lemmatizer.lemmatize(token) for token in x])\n",
    "\n",
    "# Preprocessing Pipeline\n",
    "def preprocessing(df_col, *steps):\n",
    "    if not isinstance(df_col, pd.Series):\n",
    "        raise ValueError(\"Input must be a Pandas Series\")\n",
    "    \n",
    "    print(\"Applying preprocessing steps...\\n\")\n",
    "    temp = df_col.copy()\n",
    "    for func in steps:\n",
    "        temp = func(temp)\n",
    "    return temp.apply(lambda x: \" \".join(x) if isinstance(x, list) else \"\")"
   ]
  },
  {
   "cell_type": "code",
   "execution_count": 6,
   "id": "8496061f",
   "metadata": {},
   "outputs": [
    {
     "name": "stdout",
     "output_type": "stream",
     "text": [
      "Applying preprocessing steps...\n",
      "\n",
      "Tokenizing articles...\n",
      "\n",
      "Making all words lowercase...\n",
      "\n",
      "Removing all non-alphabetic words...\n",
      "\n",
      "Removing Stopwords...\n",
      "\n",
      "Lemmatizing words...\n",
      "\n"
     ]
    }
   ],
   "source": [
    "df[\"TM_corpus\"] = preprocessing(df[\"cleaned_corpus\"],\n",
    "                               tokenization,\n",
    "                               lowercase,\n",
    "                               only_alphabetic,\n",
    "                               stopword_removal,\n",
    "                               lemmatization)"
   ]
  },
  {
   "cell_type": "code",
   "execution_count": 7,
   "id": "8eed70cb",
   "metadata": {},
   "outputs": [
    {
     "name": "stdout",
     "output_type": "stream",
     "text": [
      "\"We can't hold a referendum on immigration in France,\" Bruno Retailleau said, speaking to broadcaster LCI late on Sunday. \"I regret that.\"\n",
      "Asked whether he personally wanted to hold such a popular vote, the hardline minister said: \"yes, a thousand times yes,\" adding that \"the constitution would first have to be revised.\"\n",
      "France currently cannot hold a referendum on immigration as the issue is not within the scope of subjects on which such votes can be held.\n",
      "Retailleau said that over the past 50 years immigration has greatly affected French society, yet the French have not had the \"opportunity to express their opinion\".\n",
      "The French have, of course, been able to express their opinion in the multiple elections in which anti-immigration parties have fielded candidates over the past 50 years.\n",
      "Stating that he did not think that immigration presented \"an opportunity\" for France, the minister said it should be controlled and he was ready to use \"all levers at our disposal.\"\n",
      "\"Immigration can only be brought under control if we have an overall plan,\" he added.\n",
      "The appointment of Retailleau, who says his priority is \"restoring order\", is emblematic of the rightward shift of the government under new Prime Minister Michel Barnier following this summer's legislative elections that resulted in a hung parliament.\n",
      "A recent rape and murder of a 19-year-old Paris student has further inflamed a debate on immigration in France after a Moroccan was named as the suspected attacker. The 22-year-old suspect was arrested in Switzerland last week.\n",
      "French authorities say the man had been the subject of an expulsion order.\n",
      "On Sunday, Retailleau pointed to the possibility of extending the maximum duration of detention for people subject to an order to leave France (known as an OQTF) among other measures.\n",
      "Separately, speaking to Le Journal du Dimanche, the interior minister said \"the rule of law is neither intangible nor sacred.\"\n",
      "Reacting to Retailleau's remarks, Yael Braun-Pivet, speaker as parliament's lower house, the National Assembly, said she was \"concerned\".\n",
      "\"When the situation is tense, when there are crises, the rule of law must not be called into question,\" she said on Monday.\n",
      "Former president Nicolas Sarkozy said \"immigration is a problem\" and France needed to \"change everything,\" even though there is no \"magic formula.\"\n",
      "Join the conversation in our comments section below. Share your own views and experience and if you have a question or suggestion for our journalists then email us at [email protected].\n",
      "Please keep comments civil, constructive and on topic – and make sure to read our terms of use before getting involved.\n",
      "Please log in here to leave a comment.\n",
      "---\n",
      "\"We can't hold a referendum on immigration in France,\" Bruno Retailleau said, speaking to broadcaster LCI late on Sunday. \"I regret that.\"\n",
      "Asked whether he personally wanted to hold such a popular vote, the hardline minister said: \"yes, a thousand times yes,\" adding that \"the constitution would first have to be revised.\"\n",
      "France currently cannot hold a referendum on immigration as the issue is not within the scope of subjects on which such votes can be held.\n",
      "Retailleau said that over the past 50 years immigration has greatly affected French society, yet the French have not had the \"opportunity to express their opinion\".\n",
      "The French have, of course, been able to express their opinion in the multiple elections in which anti-immigration parties have fielded candidates over the past 50 years.\n",
      "Stating that he did not think that immigration presented \"an opportunity\" for France, the minister said it should be controlled and he was ready to use \"all levers at our disposal.\"\n",
      "\"Immigration can only be brought under control if we have an overall plan,\" he added.\n",
      "The appointment of Retailleau, who says his priority is \"restoring order\", is emblematic of the rightward shift of the government under new Prime Minister Michel Barnier following this summer's legislative elections that resulted in a hung parliament.\n",
      "A recent rape and murder of a 19-year-old Paris student has further inflamed a debate on immigration in France after a Moroccan was named as the suspected attacker. The 22-year-old suspect was arrested in Switzerland last week.\n",
      "French authorities say the man had been the subject of an expulsion order.\n",
      "On Sunday, Retailleau pointed to the possibility of extending the maximum duration of detention for people subject to an order to leave France (known as an OQTF) among other measures.\n",
      "Separately, speaking to Le Journal du Dimanche, the interior minister said \"the rule of law is neither intangible nor sacred.\"\n",
      "Reacting to Retailleau's remarks, Yael Braun-Pivet, speaker as parliament's lower house, the National Assembly, said she was \"concerned\".\n",
      "\"When the situation is tense, when there are crises, the rule of law must not be called into question,\" she said on Monday.\n",
      "Former president Nicolas Sarkozy said \"immigration is a problem\" and France needed to \"change everything,\" even though there is no \"magic formula.\"\n",
      "Join the conversation in our comments section below. Share your own views and experience and if you have a question or suggestion for our journalists then email us at [email protected].\n",
      "Please keep comments civil, constructive and on topic  and make sure to read our terms of use before getting involved.\n",
      "Please log in here to leave a comment.\n",
      "---\n",
      "hold referendum france bruno retailleau speaking broadcaster late sunday regret asked whether personally wanted hold popular vote hardline minister thousand time adding constitution first revised france currently hold referendum issue within scope subject vote held retailleau past year greatly affected french society french opportunity express opinion french course able express opinion multiple election party fielded candidate past year stating think presented opportunity france minister controlled ready lever disposal brought control overall plan added appointment retailleau say priority restoring order emblematic rightward shift government prime minister michel barnier following summer legislative election resulted hung parliament recent rape murder paris student inflamed debate france moroccan named suspected attacker suspect arrested switzerland last week french authority subject expulsion order sunday retailleau pointed possibility extending maximum duration detention people subject order leave france known oqtf among measure separately speaking journal dimanche interior minister rule neither intangible sacred reacting retailleau remark yael speaker parliament lower house national assembly concerned situation tense crisis rule called question monday former president nicolas sarkozy problem france needed change everything though magic formula join conversation comment section share view experience question suggestion journalist email email protected please keep comment civil constructive topic sure read term getting involved please leave comment\n",
      "-----------------------------------\n"
     ]
    }
   ],
   "source": [
    "#printing the results\n",
    "\n",
    "for i,line in df[[\"Content\",\"cleaned_corpus\",\"TM_corpus\"]].sample(1).iterrows():\n",
    "    print(line[\"Content\"])\n",
    "    print(\"---\")\n",
    "    print(line[\"cleaned_corpus\"])\n",
    "    print(\"---\")\n",
    "    print(line[\"TM_corpus\"])\n",
    "    print(\"-----------------------------------\")"
   ]
  },
  {
   "cell_type": "markdown",
   "id": "87d7157e",
   "metadata": {},
   "source": [
    "## Final Duplicates Removal"
   ]
  },
  {
   "cell_type": "code",
   "execution_count": 8,
   "id": "c47ecfa1",
   "metadata": {},
   "outputs": [],
   "source": [
    "# remove duplicates\n",
    "df.drop_duplicates(subset=['TM_corpus'], inplace=True)"
   ]
  },
  {
   "cell_type": "code",
   "execution_count": 9,
   "id": "d8c681a7",
   "metadata": {},
   "outputs": [
    {
     "name": "stdout",
     "output_type": "stream",
     "text": [
      "Columns after dropping:\n",
      "Index(['Date', 'Source', 'Country/Organization', 'TM_corpus'], dtype='object')\n"
     ]
    }
   ],
   "source": [
    "# dropping irrelevant columns\n",
    "\n",
    "# Drop the specified columns\n",
    "df = df.drop(columns=['Headline', 'Content', 'cleaned_corpus'])\n",
    "\n",
    "# Check the updated DataFrame\n",
    "print(\"Columns after dropping:\")\n",
    "print(df.columns)"
   ]
  },
  {
   "cell_type": "code",
   "execution_count": 11,
   "id": "8dd9a3f2",
   "metadata": {},
   "outputs": [
    {
     "name": "stdout",
     "output_type": "stream",
     "text": [
      "All values in the column are strings.\n"
     ]
    }
   ],
   "source": [
    "# confirm if all values are strings\n",
    "\n",
    "all_strings = df['TM_corpus'].apply(lambda x: isinstance(x, str)).all()\n",
    "\n",
    "if all_strings:\n",
    "    print(\"All values in the column are strings.\")\n",
    "else:\n",
    "    print(\"Not all values in the column are strings.\")"
   ]
  },
  {
   "cell_type": "code",
   "execution_count": 12,
   "id": "de40e1f6",
   "metadata": {},
   "outputs": [
    {
     "data": {
      "text/plain": [
       "Date                    5283\n",
       "Source                  5283\n",
       "Country/Organization    5283\n",
       "TM_corpus               5283\n",
       "dtype: int64"
      ]
     },
     "execution_count": 12,
     "metadata": {},
     "output_type": "execute_result"
    }
   ],
   "source": [
    "df.count()"
   ]
  },
  {
   "cell_type": "code",
   "execution_count": 13,
   "id": "d7f70a4f",
   "metadata": {},
   "outputs": [
    {
     "data": {
      "text/html": [
       "<div>\n",
       "<style scoped>\n",
       "    .dataframe tbody tr th:only-of-type {\n",
       "        vertical-align: middle;\n",
       "    }\n",
       "\n",
       "    .dataframe tbody tr th {\n",
       "        vertical-align: top;\n",
       "    }\n",
       "\n",
       "    .dataframe thead th {\n",
       "        text-align: right;\n",
       "    }\n",
       "</style>\n",
       "<table border=\"1\" class=\"dataframe\">\n",
       "  <thead>\n",
       "    <tr style=\"text-align: right;\">\n",
       "      <th></th>\n",
       "      <th>Date</th>\n",
       "      <th>Source</th>\n",
       "      <th>Country/Organization</th>\n",
       "      <th>TM_corpus</th>\n",
       "    </tr>\n",
       "  </thead>\n",
       "  <tbody>\n",
       "    <tr>\n",
       "      <th>0</th>\n",
       "      <td>2024-06-07</td>\n",
       "      <td>BBC</td>\n",
       "      <td>UK</td>\n",
       "      <td>many people cross channel small boat many clai...</td>\n",
       "    </tr>\n",
       "    <tr>\n",
       "      <th>1</th>\n",
       "      <td>2024-06-07</td>\n",
       "      <td>BBC</td>\n",
       "      <td>UK</td>\n",
       "      <td>right eye europe vote surge ditch german party...</td>\n",
       "    </tr>\n",
       "    <tr>\n",
       "      <th>2</th>\n",
       "      <td>2024-06-07</td>\n",
       "      <td>BBC</td>\n",
       "      <td>UK</td>\n",
       "      <td>greek court throw shipwreck trial nine court g...</td>\n",
       "    </tr>\n",
       "    <tr>\n",
       "      <th>3</th>\n",
       "      <td>2024-06-07</td>\n",
       "      <td>BBC</td>\n",
       "      <td>UK</td>\n",
       "      <td>cross channel consecutive small boat crossed c...</td>\n",
       "    </tr>\n",
       "    <tr>\n",
       "      <th>4</th>\n",
       "      <td>2024-06-07</td>\n",
       "      <td>BBC</td>\n",
       "      <td>UK</td>\n",
       "      <td>people arrive small boat total people detected...</td>\n",
       "    </tr>\n",
       "  </tbody>\n",
       "</table>\n",
       "</div>"
      ],
      "text/plain": [
       "         Date Source Country/Organization  \\\n",
       "0  2024-06-07    BBC                   UK   \n",
       "1  2024-06-07    BBC                   UK   \n",
       "2  2024-06-07    BBC                   UK   \n",
       "3  2024-06-07    BBC                   UK   \n",
       "4  2024-06-07    BBC                   UK   \n",
       "\n",
       "                                           TM_corpus  \n",
       "0  many people cross channel small boat many clai...  \n",
       "1  right eye europe vote surge ditch german party...  \n",
       "2  greek court throw shipwreck trial nine court g...  \n",
       "3  cross channel consecutive small boat crossed c...  \n",
       "4  people arrive small boat total people detected...  "
      ]
     },
     "execution_count": 13,
     "metadata": {},
     "output_type": "execute_result"
    }
   ],
   "source": [
    "df.head()"
   ]
  },
  {
   "cell_type": "code",
   "execution_count": 14,
   "id": "fcf1769d",
   "metadata": {},
   "outputs": [
    {
     "name": "stdout",
     "output_type": "stream",
     "text": [
      "<class 'pandas.core.frame.DataFrame'>\n",
      "Index: 5283 entries, 0 to 5288\n",
      "Data columns (total 4 columns):\n",
      " #   Column                Non-Null Count  Dtype \n",
      "---  ------                --------------  ----- \n",
      " 0   Date                  5283 non-null   object\n",
      " 1   Source                5283 non-null   object\n",
      " 2   Country/Organization  5283 non-null   object\n",
      " 3   TM_corpus             5283 non-null   object\n",
      "dtypes: object(4)\n",
      "memory usage: 206.4+ KB\n",
      "None\n"
     ]
    }
   ],
   "source": [
    "#remove missing values\n",
    "\n",
    "df = df.dropna()\n",
    "\n",
    "# Check the updated DataFrame\n",
    "print(df.info())"
   ]
  },
  {
   "cell_type": "code",
   "execution_count": 15,
   "id": "200b3ae1",
   "metadata": {},
   "outputs": [
    {
     "data": {
      "text/plain": [
       "Date                    5283\n",
       "Source                  5283\n",
       "Country/Organization    5283\n",
       "TM_corpus               5283\n",
       "dtype: int64"
      ]
     },
     "execution_count": 15,
     "metadata": {},
     "output_type": "execute_result"
    }
   ],
   "source": [
    "df.count()"
   ]
  },
  {
   "cell_type": "code",
   "execution_count": 16,
   "id": "337c4824",
   "metadata": {},
   "outputs": [
    {
     "data": {
      "text/plain": [
       "'united nation torture prevention watchdog urged investigate australia handcuff asylum seeker seeking medical care practice advocate condemn inhumane unlawful public interest advocacy centre piac launched landmark test case federal court alleging practice handcuffing detainee medical transfer unlawful traumatic particularly history torture abuse piac requested subcommittee prevention torture investigate practice visit australia next month subcommittee expected scrutinise australia detention network related government security company reach settlement manus island guard piac advocacy group practice effectively creates barrier accessing essential healthcare unlawful disability discrimination asked subcommittee look visit australia october piac principal solicitor camilla pandolfini shouldnt action federal court ensure people access basic essential treatment without trauma indignity handcuffed receive sign receive email story guardian australia every morning australian border force detention service manual state force restraint used last resort state first instance officer seek achieve desired objective whenever possible technique discussion negotiation verbal persuasion cooperation commonwealth ombudsman office year consistently raised issue guard using mechanical restraint usually handcuff routine appointmentsunnecessarily office continues concerned detainee mechanically restrained attend medical appointment alternative increased escort available ombudsman wrote related australia luck draw asylum system leaving vulnerable people limbo year report ombudsman found people held detention centre brisbane sydney melbourne routinely handcuffed medical appointment detainee brisbane reported forego medical appointment wish handcuffed detainee reported humiliating handcuff waiting room offsite medical appointment inspection villawood detention centre noted detainee restrained escort hospital treatment hour office concerned practice result reluctance detainee seek medical treatment barrier detainee receiving medical treatment accord experience plaintiff piacs federal court case asylum seeker known pseudonym yasir yasir history childhood torture abuse suffers major depression stress disorder handcuffed handcuffed feel terrible related egregious history likely nauru operator includes allegation gang rape murder prison start shaking sometimes vomit seizure injure missed many medical appointment guard wont unless handcuffed doctor refuse appointment didnt refuse appointment refused handcuff australian human right commission report found numerous instance handcuff plastic flexi cuff used warranted ahrc found existed policy amended required physically adult detainee required restrained escort first day detention regardless risk potentially posed rintoul action coalition handcuff restrain people detention routine authority inside detention centre using handcuff physically restraining people first resort last resort australian border force couldnt comment individual case us restraint risk assessment indicate need restraint appropriate proportionate identified risk request considered basis following risk assessment consultation health professional assessment whether proposed action appropriate proportionate relevant risk identified spokesperson'"
      ]
     },
     "execution_count": 16,
     "metadata": {},
     "output_type": "execute_result"
    }
   ],
   "source": [
    "df.at[3642, 'TM_corpus']"
   ]
  },
  {
   "cell_type": "code",
   "execution_count": 18,
   "id": "115552e1",
   "metadata": {},
   "outputs": [],
   "source": [
    "df.to_csv(\"/Users/henryasiamah/Desktop/work/TM_corpus_final_henry.csv\", index=False)"
   ]
  },
  {
   "cell_type": "code",
   "execution_count": null,
   "id": "6e384016",
   "metadata": {},
   "outputs": [],
   "source": []
  }
 ],
 "metadata": {
  "kernelspec": {
   "display_name": "Python 3 (ipykernel)",
   "language": "python",
   "name": "python3"
  },
  "language_info": {
   "codemirror_mode": {
    "name": "ipython",
    "version": 3
   },
   "file_extension": ".py",
   "mimetype": "text/x-python",
   "name": "python",
   "nbconvert_exporter": "python",
   "pygments_lexer": "ipython3",
   "version": "3.9.16"
  }
 },
 "nbformat": 4,
 "nbformat_minor": 5
}
